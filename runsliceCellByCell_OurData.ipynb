{
 "cells": [
  {
   "cell_type": "code",
   "execution_count": null,
   "metadata": {},
   "outputs": [],
   "source": [
    "# Written by Prerna Singh, edited by John D'Uva"
   ]
  },
  {
   "cell_type": "code",
   "execution_count": 13,
   "metadata": {},
   "outputs": [
    {
     "data": {
      "text/plain": [
       "(12, 12, 12)"
      ]
     },
     "execution_count": 13,
     "metadata": {},
     "output_type": "execute_result"
    }
   ],
   "source": [
    "## Run model on 9L that was trained on 12L with random 10x NCR\n",
    "import numpy as np\n",
    "import math\n",
    "import os\n",
    "import matplotlib.pyplot as plt\n",
    "import cv2\n",
    "import torch\n",
    "import torch.nn as nn\n",
    "import torch.nn.functional as F\n",
    "import torch.utils.data as data\n",
    "import torch.optim as optim\n",
    "import sklearn.metrics"
   ]
  },
  {
   "cell_type": "code",
   "execution_count": 34,
   "metadata": {},
   "outputs": [
    {
     "name": "stdout",
     "output_type": "stream",
     "text": [
      "Total Number of Cell Regions:  3\n",
      "Number of Non-Cell Regions: 3\n",
      "(3, 12, 12, 12)\n",
      "(3, 12, 12, 12)\n",
      "Number of Items in Test Data: 6\n",
      "Shape of Test Data Vector: (6, 1, 12, 12, 12)\n"
     ]
    }
   ],
   "source": [
    "ROI1 = np.load('ROI_z2000:z2200_1.npy')\n",
    "ROI2 = np.load('ROI_z2000:z2200_2.npy')\n",
    "ROI4 = np.load('ROI_z2000:z2200_4.npy')\n",
    "ROI1 = np.expand_dims(ROI1,0)\n",
    "ROI2 = np.expand_dims(ROI2,0)\n",
    "ROI4 = np.expand_dims(ROI4,0)\n",
    "ROI_TEST = np.vstack((ROI1, ROI2, ROI4))\n",
    "print(\"Total Number of Cell Regions: \", len(ROI_TEST))\n",
    "\n",
    "NCR20 = np.load('NCR_z2000:z2200_20.npy')\n",
    "NCR21 = np.load('NCR_z2000:z2200_21.npy')\n",
    "NCR22 = np.load('NCR_z2000:z2200_22.npy')\n",
    "NCR20 = np.expand_dims(NCR20,0)\n",
    "NCR21 = np.expand_dims(NCR21,0)\n",
    "NCR22 = np.expand_dims(NCR22,0)\n",
    "NCR_TEST = np.vstack((NCR20, NCR21, NCR22))\n",
    "print(\"Number of Non-Cell Regions:\",len(NCR_TEST))\n",
    "\n",
    "NCR_TEST = np.asarray(NCR_TEST)\n",
    "print(NCR_TEST.shape)\n",
    "\n",
    "ROI_TEST = np.asarray(ROI_TEST)\n",
    "print(ROI_TEST.shape)\n",
    "\n",
    "test = np.vstack((ROI_TEST, NCR_TEST))\n",
    "#Test Data: 0-956 = cell\n",
    "#Test Data: 956-10516 = non cell region\n",
    "print(\"Number of Items in Test Data: %s\" %len(test))\n",
    "test = np.expand_dims(test, axis=1)\n",
    "print('Shape of Test Data Vector:', test.shape)"
   ]
  },
  {
   "cell_type": "code",
   "execution_count": 35,
   "metadata": {},
   "outputs": [],
   "source": [
    "# m1 = torch.load('model2.pt')\n",
    "# 1. Model Architecture\n",
    "# INPUT: \n",
    "# - 1 x 12 x 12 x 12 image\n",
    "# CONV1: 3d CONV\n",
    "# MAXPOOL: 3d MP\n",
    "# CONV2: 3d CONV\n",
    "# CONV3: 3d CONV\n",
    "# FC1: Fully Connected Layer\n",
    "# FC2: Fully Connected Layer\n",
    "\n",
    "class M1(nn.Module):\n",
    "    def __init__(self):\n",
    "        super(M1, self).__init__()\n",
    "        self.conv1 = nn.Sequential(nn.Conv3d(1,64, (5,5,5),padding = 2),nn.Dropout(dr)) # in_channel, out_channel, kernel\n",
    "        self.pool = nn.MaxPool3d((2, 2, 2),2) # kernel, stride\n",
    "        self.conv2 = nn.Sequential(nn.Conv3d(64, 64, (3,3,3), padding = 1), nn.Dropout(dr)) # in_channel, out_channel, kernel\n",
    "        self.conv3 = nn.Sequential(nn.Conv3d(64, 64, (3,3,3), padding = 1), nn.Dropout(dr)) # in_channel, out_channel, kernel\n",
    "        self.fc1 = nn.Sequential(nn.Linear(6*6*6*64,150),nn.Dropout(dr))\n",
    "        self.fc2 = nn.Sequential(nn.Linear(150,1),nn.Dropout(dr))\n",
    "\n",
    "    def forward(self,x):\n",
    "#        print('Input Shape: ', x.shape)\n",
    "        x = F.relu(self.conv1(x))\n",
    "#        print('Shape after CONV1: ', x.shape)\n",
    "        # Conv1 Activation: ReLU\n",
    "        x = self.pool(x)\n",
    "#         print('Shape after Maxpool: ', x.shape)\n",
    "        # Followed by Maxpool\n",
    "     \n",
    "        x = F.relu(self.conv2(x))\n",
    "#         print('Shape after CONV2: ', x.shape)\n",
    "        # Conv2 Activation: ReLU\n",
    "        \n",
    "        x = F.relu(self.conv3(x))\n",
    "#         print('Shape after CONV3: ', x.shape)\n",
    "        # Conv3 Activation: ReLU\n",
    "        \n",
    "        x = x.reshape(x.size(0),-1)\n",
    "#         print('Shape after flatten: ', x.shape)\n",
    "        # flatten vector\n",
    "              \n",
    "        x = F.relu(self.fc1(x))\n",
    "        # FC1 Activation: ReLU\n",
    "#         print('Shape after FC1: ', x.shape)\n",
    "        x = self.fc2(x)\n",
    "        # FC2 Activation: None\n",
    "#         print('Shape after FC2: ', x.shape)\n",
    "        m = nn.Sigmoid()\n",
    "#         print('Shape after Sigmoid Output: ', x.shape)\n",
    "\n",
    "        x = m(x)\n",
    "        # Output Activation: Sigmoid\n",
    "        return x\n",
    "\n",
    "#Hyperparamters\n",
    "num_epochs = 200\n",
    "batch_size = 5\n",
    "learning_rate = 1e-3\n",
    "momentum = 0.9\n",
    "dr = 0.3\n",
    "weight_decay = 1e-4\n",
    "m1 = M1()"
   ]
  },
  {
   "cell_type": "code",
   "execution_count": 37,
   "metadata": {},
   "outputs": [],
   "source": [
    "m1 = M1()\n",
    "m1.load_state_dict(torch.load('model_trained_on12R_bias_corrected_goodtrain.pt', map_location = torch.device('cpu') ))\n",
    "m1 = m1.double()"
   ]
  },
  {
   "cell_type": "code",
   "execution_count": 38,
   "metadata": {},
   "outputs": [],
   "source": [
    "truelabels = []\n",
    "\n",
    "for i in range(0,ROI_TEST.shape[0] ):\n",
    "    truelabels.append(1)\n",
    "for i in range(0,NCR_TEST.shape[0]):\n",
    "    truelabels.append(0)\n",
    "\n",
    "labels=[]\n",
    "for i in range(0,len(test)):\n",
    "    w = torch.from_numpy(test[i])\n",
    "    w = w.unsqueeze(1)\n",
    "    w = w.double()\n",
    "    w = m1(w)\n",
    "    labels.append(w.detach().numpy())\n",
    "\n",
    "truelabels = np.asarray(truelabels)\n",
    "labels = np.asarray(labels)\n",
    "labels = labels.squeeze()"
   ]
  },
  {
   "cell_type": "code",
   "execution_count": 39,
   "metadata": {},
   "outputs": [],
   "source": [
    "fpr, tpr, thresholds = sklearn.metrics.roc_curve(truelabels, labels)\n",
    "mets = sklearn.metrics.precision_recall_curve(truelabels, labels, pos_label=None, sample_weight=None)\n",
    "#np.save('positivecells.npy',positivecells)"
   ]
  },
  {
   "cell_type": "code",
   "execution_count": 40,
   "metadata": {},
   "outputs": [
    {
     "name": "stdout",
     "output_type": "stream",
     "text": [
      "AUC: 0.222\n"
     ]
    }
   ],
   "source": [
    "auc = sklearn.metrics.roc_auc_score(truelabels, labels)\n",
    "print('AUC: %.3f' % auc)"
   ]
  },
  {
   "cell_type": "code",
   "execution_count": 41,
   "metadata": {},
   "outputs": [
    {
     "data": {
      "image/png": "[encoded data removed]",
      "text/plain": [
       "<Figure size 432x288 with 1 Axes>"
      ]
     },
     "metadata": {
      "needs_background": "light"
     },
     "output_type": "display_data"
    }
   ],
   "source": [
    "plt.plot(fpr, tpr, marker='.')\n",
    "plt.title(\"AUC\")\n",
    "plt.xlabel('False Positive Rate')\n",
    "plt.ylabel('True Positive Rate')\n",
    "# show the plot\n",
    "plt.show()"
   ]
  },
  {
   "cell_type": "code",
   "execution_count": 42,
   "metadata": {},
   "outputs": [],
   "source": [
    "precision, recall, thresholds = sklearn.metrics.precision_recall_curve(truelabels, labels)\n",
    "\n",
    "# calculate F1 score\n",
    "auc = sklearn.metrics.auc(recall, precision)"
   ]
  },
  {
   "cell_type": "code",
   "execution_count": 43,
   "metadata": {},
   "outputs": [
    {
     "data": {
      "image/png": "[encoded data removed]",
      "text/plain": [
       "<Figure size 432x288 with 1 Axes>"
      ]
     },
     "metadata": {
      "needs_background": "light"
     },
     "output_type": "display_data"
    }
   ],
   "source": [
    "plt.plot(recall, precision, marker='.', label='Logistic')\n",
    "# axis labels\n",
    "plt.xlabel('Recall')\n",
    "plt.ylabel('Precision')\n",
    "plt.show()"
   ]
  },
  {
   "cell_type": "code",
   "execution_count": null,
   "metadata": {},
   "outputs": [],
   "source": []
  }
 ],
 "metadata": {
  "kernelspec": {
   "display_name": "Python 3",
   "language": "python",
   "name": "python3"
  },
  "language_info": {
   "codemirror_mode": {
    "name": "ipython",
    "version": 3
   },
   "file_extension": ".py",
   "mimetype": "text/x-python",
   "name": "python",
   "nbconvert_exporter": "python",
   "pygments_lexer": "ipython3",
   "version": "3.7.0"
  },
  "varInspector": {
   "cols": {
    "lenName": 16,
    "lenType": 16,
    "lenVar": 40
   },
   "kernels_config": {
    "python": {
     "delete_cmd_postfix": "",
     "delete_cmd_prefix": "del ",
     "library": "var_list.py",
     "varRefreshCmd": "print(var_dic_list())"
    },
    "r": {
     "delete_cmd_postfix": ") ",
     "delete_cmd_prefix": "rm(",
     "library": "var_list.r",
     "varRefreshCmd": "cat(var_dic_list()) "
    }
   },
   "types_to_exclude": [
    "module",
    "function",
    "builtin_function_or_method",
    "instance",
    "_Feature"
   ],
   "window_display": false
  }
 },
 "nbformat": 4,
 "nbformat_minor": 2
}
